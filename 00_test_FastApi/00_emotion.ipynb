{
 "cells": [
  {
   "cell_type": "code",
   "execution_count": 3,
   "metadata": {},
   "outputs": [
    {
     "name": "stderr",
     "output_type": "stream",
     "text": [
      "INFO:     Started server process [888]\n",
      "INFO:     Waiting for application startup.\n",
      "INFO:     Application startup complete.\n",
      "ERROR:    [Errno 10048] error while attempting to bind on address ('0.0.0.0', 8000): [winerror 10048] 각 소켓 주소(프로토콜/네트워크 주소/포트)는 하나만 사용할 수 있습니다\n",
      "INFO:     Waiting for application shutdown.\n",
      "INFO:     Application shutdown complete.\n"
     ]
    }
   ],
   "source": [
    "import uvicorn\n",
    "from fastapi import FastAPI\n",
    "\n",
    "#fastapi인스턴스 생성\n",
    "app = FastAPI()\n",
    "\n",
    "#기본경로설정\n",
    "@app.get(\"/\")\n",
    "def read_root():\n",
    "    return{\"message\":\"FastApi와 쥬피터 연결성공\"}\n",
    "\n",
    "#uvicorn을 백그라운드에서 실행(노트북 실행을 유지하면서 서버를 구동)\n",
    "def run():\n",
    "    uvicorn.run(app, host=\"0.0.0.0\", port=8000)\n",
    "    \n",
    "import threading\n",
    "server = threading.Thread(target=run)\n",
    "server.start()"
   ]
  },
  {
   "cell_type": "code",
   "execution_count": 4,
   "metadata": {},
   "outputs": [
    {
     "name": "stdout",
     "output_type": "stream",
     "text": [
      "{'message': 'FastApi와 쥬피터 연결성공'}\n"
     ]
    }
   ],
   "source": [
    "import requests\n",
    "\n",
    "response = requests.get(\"http://127.0.0.1:8000/\")\n",
    "print(response.json())"
   ]
  },
  {
   "cell_type": "code",
   "execution_count": 2,
   "metadata": {},
   "outputs": [],
   "source": [
    "mkdir templates"
   ]
  },
  {
   "cell_type": "code",
   "execution_count": 1,
   "metadata": {},
   "outputs": [
    {
     "name": "stderr",
     "output_type": "stream",
     "text": [
      "C:\\Users\\80412\\AppData\\Local\\Temp\\ipykernel_20948\\298469755.py:20: MovedIn20Warning: The ``declarative_base()`` function is now available as sqlalchemy.orm.declarative_base(). (deprecated since: 2.0) (Background on SQLAlchemy 2.0 at: https://sqlalche.me/e/b8d9)\n",
      "  Base = declarative_base()\n"
     ]
    },
    {
     "data": {
      "application/vnd.jupyter.widget-view+json": {
       "model_id": "d00564aff8db4868a2ebee79b16e623c",
       "version_major": 2,
       "version_minor": 0
      },
      "text/plain": [
       "Loading pipeline components...:   0%|          | 0/7 [00:00<?, ?it/s]"
      ]
     },
     "metadata": {},
     "output_type": "display_data"
    },
    {
     "data": {
      "text/plain": [
       "True"
      ]
     },
     "execution_count": 1,
     "metadata": {},
     "output_type": "execute_result"
    },
    {
     "name": "stderr",
     "output_type": "stream",
     "text": [
      "INFO:     Started server process [20948]\n",
      "INFO:     Waiting for application startup.\n",
      "INFO:     Application startup complete.\n",
      "INFO:     Uvicorn running on http://0.0.0.0:8000 (Press CTRL+C to quit)\n"
     ]
    },
    {
     "name": "stdout",
     "output_type": "stream",
     "text": [
      "INFO:     127.0.0.1:58464 - \"GET / HTTP/1.1\" 200 OK\n"
     ]
    },
    {
     "data": {
      "application/vnd.jupyter.widget-view+json": {
       "model_id": "f79bdd29a5da4bab98af3ee4f31d1dd7",
       "version_major": 2,
       "version_minor": 0
      },
      "text/plain": [
       "  0%|          | 0/50 [00:00<?, ?it/s]"
      ]
     },
     "metadata": {},
     "output_type": "display_data"
    },
    {
     "name": "stdout",
     "output_type": "stream",
     "text": [
      "INFO:     127.0.0.1:58465 - \"POST /predict/ HTTP/1.1\" 500 Internal Server Error\n"
     ]
    },
    {
     "name": "stderr",
     "output_type": "stream",
     "text": [
      "ERROR:    Exception in ASGI application\n",
      "Traceback (most recent call last):\n",
      "  File \"c:\\Users\\80412\\miniforge3\\envs\\lecture_env\\Lib\\site-packages\\uvicorn\\protocols\\http\\httptools_impl.py\", line 401, in run_asgi\n",
      "    result = await app(  # type: ignore[func-returns-value]\n",
      "             ^^^^^^^^^^^^^^^^^^^^^^^^^^^^^^^^^^^^^^^^^^^^^^\n",
      "  File \"c:\\Users\\80412\\miniforge3\\envs\\lecture_env\\Lib\\site-packages\\uvicorn\\middleware\\proxy_headers.py\", line 60, in __call__\n",
      "    return await self.app(scope, receive, send)\n",
      "           ^^^^^^^^^^^^^^^^^^^^^^^^^^^^^^^^^^^^\n",
      "  File \"c:\\Users\\80412\\miniforge3\\envs\\lecture_env\\Lib\\site-packages\\fastapi\\applications.py\", line 1054, in __call__\n",
      "    await super().__call__(scope, receive, send)\n",
      "  File \"c:\\Users\\80412\\miniforge3\\envs\\lecture_env\\Lib\\site-packages\\starlette\\applications.py\", line 113, in __call__\n",
      "    await self.middleware_stack(scope, receive, send)\n",
      "  File \"c:\\Users\\80412\\miniforge3\\envs\\lecture_env\\Lib\\site-packages\\starlette\\middleware\\errors.py\", line 187, in __call__\n",
      "    raise exc\n",
      "  File \"c:\\Users\\80412\\miniforge3\\envs\\lecture_env\\Lib\\site-packages\\starlette\\middleware\\errors.py\", line 165, in __call__\n",
      "    await self.app(scope, receive, _send)\n",
      "  File \"c:\\Users\\80412\\miniforge3\\envs\\lecture_env\\Lib\\site-packages\\starlette\\middleware\\exceptions.py\", line 62, in __call__\n",
      "    await wrap_app_handling_exceptions(self.app, conn)(scope, receive, send)\n",
      "  File \"c:\\Users\\80412\\miniforge3\\envs\\lecture_env\\Lib\\site-packages\\starlette\\_exception_handler.py\", line 53, in wrapped_app\n",
      "    raise exc\n",
      "  File \"c:\\Users\\80412\\miniforge3\\envs\\lecture_env\\Lib\\site-packages\\starlette\\_exception_handler.py\", line 42, in wrapped_app\n",
      "    await app(scope, receive, sender)\n",
      "  File \"c:\\Users\\80412\\miniforge3\\envs\\lecture_env\\Lib\\site-packages\\starlette\\routing.py\", line 715, in __call__\n",
      "    await self.middleware_stack(scope, receive, send)\n",
      "  File \"c:\\Users\\80412\\miniforge3\\envs\\lecture_env\\Lib\\site-packages\\starlette\\routing.py\", line 735, in app\n",
      "    await route.handle(scope, receive, send)\n",
      "  File \"c:\\Users\\80412\\miniforge3\\envs\\lecture_env\\Lib\\site-packages\\starlette\\routing.py\", line 288, in handle\n",
      "    await self.app(scope, receive, send)\n",
      "  File \"c:\\Users\\80412\\miniforge3\\envs\\lecture_env\\Lib\\site-packages\\starlette\\routing.py\", line 76, in app\n",
      "    await wrap_app_handling_exceptions(app, request)(scope, receive, send)\n",
      "  File \"c:\\Users\\80412\\miniforge3\\envs\\lecture_env\\Lib\\site-packages\\starlette\\_exception_handler.py\", line 53, in wrapped_app\n",
      "    raise exc\n",
      "  File \"c:\\Users\\80412\\miniforge3\\envs\\lecture_env\\Lib\\site-packages\\starlette\\_exception_handler.py\", line 42, in wrapped_app\n",
      "    await app(scope, receive, sender)\n",
      "  File \"c:\\Users\\80412\\miniforge3\\envs\\lecture_env\\Lib\\site-packages\\starlette\\routing.py\", line 73, in app\n",
      "    response = await f(request)\n",
      "               ^^^^^^^^^^^^^^^^\n",
      "  File \"c:\\Users\\80412\\miniforge3\\envs\\lecture_env\\Lib\\site-packages\\fastapi\\routing.py\", line 301, in app\n",
      "    raw_response = await run_endpoint_function(\n",
      "                   ^^^^^^^^^^^^^^^^^^^^^^^^^^^^\n",
      "  File \"c:\\Users\\80412\\miniforge3\\envs\\lecture_env\\Lib\\site-packages\\fastapi\\routing.py\", line 214, in run_endpoint_function\n",
      "    return await run_in_threadpool(dependant.call, **values)\n",
      "           ^^^^^^^^^^^^^^^^^^^^^^^^^^^^^^^^^^^^^^^^^^^^^^^^^\n",
      "  File \"c:\\Users\\80412\\miniforge3\\envs\\lecture_env\\Lib\\site-packages\\starlette\\concurrency.py\", line 39, in run_in_threadpool\n",
      "    return await anyio.to_thread.run_sync(func, *args)\n",
      "           ^^^^^^^^^^^^^^^^^^^^^^^^^^^^^^^^^^^^^^^^^^^\n",
      "  File \"c:\\Users\\80412\\miniforge3\\envs\\lecture_env\\Lib\\site-packages\\anyio\\to_thread.py\", line 56, in run_sync\n",
      "    return await get_async_backend().run_sync_in_worker_thread(\n",
      "           ^^^^^^^^^^^^^^^^^^^^^^^^^^^^^^^^^^^^^^^^^^^^^^^^^^^^\n",
      "  File \"c:\\Users\\80412\\miniforge3\\envs\\lecture_env\\Lib\\site-packages\\anyio\\_backends\\_asyncio.py\", line 2441, in run_sync_in_worker_thread\n",
      "    return await future\n",
      "           ^^^^^^^^^^^^\n",
      "  File \"c:\\Users\\80412\\miniforge3\\envs\\lecture_env\\Lib\\site-packages\\anyio\\_backends\\_asyncio.py\", line 943, in run\n",
      "    result = context.run(func, *args)\n",
      "             ^^^^^^^^^^^^^^^^^^^^^^^^\n",
      "  File \"C:\\Users\\80412\\AppData\\Local\\Temp\\ipykernel_20948\\298469755.py\", line 79, in predict\n",
      "    return templates.TemplateResponse(\"result.html\", {\n",
      "           ^^^^^^^^^^^^^^^^^^^^^^^^^^^^^^^^^^^^^^^^^^^\n",
      "  File \"c:\\Users\\80412\\miniforge3\\envs\\lecture_env\\Lib\\site-packages\\starlette\\templating.py\", line 208, in TemplateResponse\n",
      "    template = self.get_template(name)\n",
      "               ^^^^^^^^^^^^^^^^^^^^^^^\n",
      "  File \"c:\\Users\\80412\\miniforge3\\envs\\lecture_env\\Lib\\site-packages\\starlette\\templating.py\", line 131, in get_template\n",
      "    return self.env.get_template(name)\n",
      "           ^^^^^^^^^^^^^^^^^^^^^^^^^^^\n",
      "  File \"c:\\Users\\80412\\miniforge3\\envs\\lecture_env\\Lib\\site-packages\\jinja2\\environment.py\", line 1013, in get_template\n",
      "    return self._load_template(name, globals)\n",
      "           ^^^^^^^^^^^^^^^^^^^^^^^^^^^^^^^^^^\n",
      "  File \"c:\\Users\\80412\\miniforge3\\envs\\lecture_env\\Lib\\site-packages\\jinja2\\environment.py\", line 972, in _load_template\n",
      "    template = self.loader.load(self, name, self.make_globals(globals))\n",
      "               ^^^^^^^^^^^^^^^^^^^^^^^^^^^^^^^^^^^^^^^^^^^^^^^^^^^^^^^^\n",
      "  File \"c:\\Users\\80412\\miniforge3\\envs\\lecture_env\\Lib\\site-packages\\jinja2\\loaders.py\", line 138, in load\n",
      "    code = environment.compile(source, name, filename)\n",
      "           ^^^^^^^^^^^^^^^^^^^^^^^^^^^^^^^^^^^^^^^^^^^\n",
      "  File \"c:\\Users\\80412\\miniforge3\\envs\\lecture_env\\Lib\\site-packages\\jinja2\\environment.py\", line 768, in compile\n",
      "    self.handle_exception(source=source_hint)\n",
      "  File \"c:\\Users\\80412\\miniforge3\\envs\\lecture_env\\Lib\\site-packages\\jinja2\\environment.py\", line 939, in handle_exception\n",
      "    raise rewrite_traceback_stack(source=source)\n",
      "  File \"templates\\result.html\", line 14, in template\n",
      "    {% comment %} <img src=\"data:image/png;base64,{{ image_data | b64encode }}\" alt=\"Generated Image\"/> {% endcomment %}\n",
      "    ^^^^^^^^^^^^^^^^^^^^^^^^^\n",
      "jinja2.exceptions.TemplateSyntaxError: Encountered unknown tag 'comment'.\n"
     ]
    },
    {
     "name": "stdout",
     "output_type": "stream",
     "text": [
      "INFO:     127.0.0.1:58648 - \"GET / HTTP/1.1\" 200 OK\n"
     ]
    },
    {
     "data": {
      "application/vnd.jupyter.widget-view+json": {
       "model_id": "e3111f9f6e2748e2a4b845c074790416",
       "version_major": 2,
       "version_minor": 0
      },
      "text/plain": [
       "  0%|          | 0/50 [00:00<?, ?it/s]"
      ]
     },
     "metadata": {},
     "output_type": "display_data"
    },
    {
     "name": "stdout",
     "output_type": "stream",
     "text": [
      "INFO:     127.0.0.1:58649 - \"POST /predict/ HTTP/1.1\" 200 OK\n"
     ]
    },
    {
     "data": {
      "application/vnd.jupyter.widget-view+json": {
       "model_id": "228ea8ff247b4f00ab1860e77dd13603",
       "version_major": 2,
       "version_minor": 0
      },
      "text/plain": [
       "  0%|          | 0/50 [00:00<?, ?it/s]"
      ]
     },
     "metadata": {},
     "output_type": "display_data"
    },
    {
     "name": "stdout",
     "output_type": "stream",
     "text": [
      "INFO:     127.0.0.1:58728 - \"POST /predict/ HTTP/1.1\" 200 OK\n"
     ]
    },
    {
     "ename": "",
     "evalue": "",
     "output_type": "error",
     "traceback": [
      "\u001b[1;31mThe Kernel crashed while executing code in the current cell or a previous cell. \n",
      "\u001b[1;31mPlease review the code in the cell(s) to identify a possible cause of the failure. \n",
      "\u001b[1;31mClick <a href='https://aka.ms/vscodeJupyterKernelCrash'>here</a> for more info. \n",
      "\u001b[1;31mView Jupyter <a href='command:jupyter.viewOutput'>log</a> for further details."
     ]
    }
   ],
   "source": [
    "from diffusers import StableDiffusionPipeline\n",
    "import torch\n",
    "from fastapi import FastAPI, Request, Form\n",
    "from fastapi.responses import HTMLResponse\n",
    "from fastapi.templating import Jinja2Templates\n",
    "from transformers import pipeline\n",
    "from sqlalchemy import create_engine, Column, String, Integer\n",
    "from sqlalchemy.ext.declarative import declarative_base\n",
    "from sqlalchemy.orm import sessionmaker\n",
    "import threading\n",
    "from PIL import Image\n",
    "import numpy as np\n",
    "import io\n",
    "import base64\n",
    "\n",
    "#데이터베이스설정\n",
    "DATABASE_URL =\"sqlite:///./test.db\"\n",
    "engine = create_engine(DATABASE_URL)\n",
    "SessionLocal = sessionmaker(autocommit=False, autoflush=False, bind=engine)\n",
    "Base = declarative_base()\n",
    "\n",
    "#모델정의\n",
    "class TextInput(Base):\n",
    "    __tablename__=\"text_inputs\"\n",
    "    \n",
    "    id = Column(Integer, primary_key=True, index=True)\n",
    "    text =Column(String, index=True)\n",
    "    \n",
    "#데이터베이스 테이블생성 \n",
    "Base.metadata.create_all(bind=engine)\n",
    "\n",
    "#fastapi 앱 생성\n",
    "app = FastAPI()\n",
    "\n",
    "#jinja2템플릿 설정\n",
    "templates = Jinja2Templates(directory=\"templates\")\n",
    "\n",
    "#Hugging Face 모델설정(감정분석 모델)\n",
    "model = pipeline(\"sentiment-analysis\", model=\"distilbert-base-uncased-finetuned-sst-2-english\")\n",
    "\n",
    "device=\"cuda\" if torch.cuda.is_available() else \"cpu\"\n",
    "image_model = StableDiffusionPipeline.from_pretrained(\"CompVis/stable-diffusion-v1-4\").to(device)\n",
    "\n",
    "# image_model =pipeline(\"text-to-image\", model=\"CompVis/stable-diffusion-v1-4\")\n",
    "\n",
    "\n",
    "#기본화면(프론트엔드)\n",
    "@app.get(\"/\", response_class=HTMLResponse)\n",
    "def read_root(request: Request):\n",
    "    return templates.TemplateResponse(\"index.html\", {\"request\": request})\n",
    "\n",
    "#사용자 입력을 처리하고 모델 결과 반환\n",
    "@app.post(\"/predict/\", response_class=HTMLResponse)\n",
    "def predict(request: Request, text: str =Form(...)):\n",
    "    #데이터베이스 세션 생성\n",
    "    db = SessionLocal()\n",
    "    \n",
    "    #입력된 텍스트를 데이터베이스에 제공\n",
    "    db_input =TextInput(text=text)\n",
    "    db.add(db_input)\n",
    "    db.commit()\n",
    "    db.refresh(db_input)\n",
    "    db.close()\n",
    "    \n",
    "    prediction = model(text)[0]\n",
    "    \n",
    "    #이미지 생성\n",
    "    images = image_model(text).images\n",
    "    \n",
    "    #이미지처리(PIL이미지로 변환)\n",
    "    image_bytes = io.BytesIO()\n",
    "    # image = images[0]['image']\n",
    "    images[0].save(image_bytes, format='PNG')\n",
    "    image_bytes.seek(0)\n",
    "    \n",
    "    #이미지를 base64로인코딩\n",
    "    image_base64 = base64.b64encode(image_bytes.getvalue()).decode('utf-8')\n",
    "    \n",
    "    return templates.TemplateResponse(\"result.html\", {\n",
    "        \"request\":request, \n",
    "        \"text\":text,\n",
    "        \"result\": prediction,\n",
    "        \"image_data\" : image_base64}\n",
    "        ) #이미지데이터를 템플릿으로 전달\n",
    "\n",
    "# 저장된 데이터 조회 엔드포인트\n",
    "@app.get(\"/data/\", response_class=HTMLResponse)\n",
    "def get_data(request: Request):\n",
    "    db = SessionLocal()\n",
    "    texts = db.query(TextInput).all()  # 모든 텍스트 입력 조회\n",
    "    db.close()\n",
    "    \n",
    "    return templates.TemplateResponse(\"data.html\", {\"request\": request, \"texts\": texts})\n",
    "\n",
    "#Uvicorn 서버 백그라운드에서 실행\n",
    "def run():\n",
    "    import uvicorn\n",
    "    uvicorn.run(app,host=\"0.0.0.0\", port=8000)\n",
    "    \n",
    "#백그라운드 스레드로 서버실행\n",
    "server = threading.Thread(target=run)\n",
    "server.start()\n",
    "\n",
    "server.is_alive()"
   ]
  }
 ],
 "metadata": {
  "kernelspec": {
   "display_name": "lecture_env",
   "language": "python",
   "name": "python3"
  },
  "language_info": {
   "codemirror_mode": {
    "name": "ipython",
    "version": 3
   },
   "file_extension": ".py",
   "mimetype": "text/x-python",
   "name": "python",
   "nbconvert_exporter": "python",
   "pygments_lexer": "ipython3",
   "version": "3.12.7"
  }
 },
 "nbformat": 4,
 "nbformat_minor": 2
}
