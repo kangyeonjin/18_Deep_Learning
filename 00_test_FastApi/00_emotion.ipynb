{
 "cells": [
  {
   "cell_type": "code",
   "execution_count": 3,
   "metadata": {},
   "outputs": [
    {
     "name": "stderr",
     "output_type": "stream",
     "text": [
      "INFO:     Started server process [888]\n",
      "INFO:     Waiting for application startup.\n",
      "INFO:     Application startup complete.\n",
      "ERROR:    [Errno 10048] error while attempting to bind on address ('0.0.0.0', 8000): [winerror 10048] 각 소켓 주소(프로토콜/네트워크 주소/포트)는 하나만 사용할 수 있습니다\n",
      "INFO:     Waiting for application shutdown.\n",
      "INFO:     Application shutdown complete.\n"
     ]
    }
   ],
   "source": [
    "import uvicorn\n",
    "from fastapi import FastAPI\n",
    "\n",
    "#fastapi인스턴스 생성\n",
    "app = FastAPI()\n",
    "\n",
    "#기본경로설정\n",
    "@app.get(\"/\")\n",
    "def read_root():\n",
    "    return{\"message\":\"FastApi와 쥬피터 연결성공\"}\n",
    "\n",
    "#uvicorn을 백그라운드에서 실행(노트북 실행을 유지하면서 서버를 구동)\n",
    "def run():\n",
    "    uvicorn.run(app, host=\"0.0.0.0\", port=8000)\n",
    "    \n",
    "import threading\n",
    "server = threading.Thread(target=run)\n",
    "server.start()"
   ]
  },
  {
   "cell_type": "code",
   "execution_count": 4,
   "metadata": {},
   "outputs": [
    {
     "name": "stdout",
     "output_type": "stream",
     "text": [
      "{'message': 'FastApi와 쥬피터 연결성공'}\n"
     ]
    }
   ],
   "source": [
    "import requests\n",
    "\n",
    "response = requests.get(\"http://127.0.0.1:8000/\")\n",
    "print(response.json())"
   ]
  },
  {
   "cell_type": "code",
   "execution_count": 2,
   "metadata": {},
   "outputs": [],
   "source": [
    "mkdir templates"
   ]
  },
  {
   "cell_type": "code",
   "execution_count": 2,
   "metadata": {},
   "outputs": [
    {
     "name": "stderr",
     "output_type": "stream",
     "text": [
      "C:\\Users\\80412\\AppData\\Local\\Temp\\ipykernel_18216\\298469755.py:20: MovedIn20Warning: The ``declarative_base()`` function is now available as sqlalchemy.orm.declarative_base(). (deprecated since: 2.0) (Background on SQLAlchemy 2.0 at: https://sqlalche.me/e/b8d9)\n",
      "  Base = declarative_base()\n"
     ]
    },
    {
     "data": {
      "application/vnd.jupyter.widget-view+json": {
       "model_id": "7046741b00ea421f9588ad0d260cf6b7",
       "version_major": 2,
       "version_minor": 0
      },
      "text/plain": [
       "Loading pipeline components...:   0%|          | 0/7 [00:00<?, ?it/s]"
      ]
     },
     "metadata": {},
     "output_type": "display_data"
    },
    {
     "data": {
      "text/plain": [
       "True"
      ]
     },
     "execution_count": 2,
     "metadata": {},
     "output_type": "execute_result"
    },
    {
     "name": "stderr",
     "output_type": "stream",
     "text": [
      "INFO:     Started server process [18216]\n",
      "INFO:     Waiting for application startup.\n",
      "INFO:     Application startup complete.\n"
     ]
    },
    {
     "name": "stderr",
     "output_type": "stream",
     "text": [
      "ERROR:    [Errno 10048] error while attempting to bind on address ('0.0.0.0', 8000): [winerror 10048] 각 소켓 주소(프로토콜/네트워크 주소/포트)는 하나만 사용할 수 있습니다\n",
      "INFO:     Waiting for application shutdown.\n",
      "INFO:     Application shutdown complete.\n"
     ]
    },
    {
     "data": {
      "application/vnd.jupyter.widget-view+json": {
       "model_id": "13762d34901d474b9aee4890b699bd77",
       "version_major": 2,
       "version_minor": 0
      },
      "text/plain": [
       "  0%|          | 0/50 [00:00<?, ?it/s]"
      ]
     },
     "metadata": {},
     "output_type": "display_data"
    },
    {
     "data": {
      "application/vnd.jupyter.widget-view+json": {
       "model_id": "b3b33a6655d549f091be926fab2449e7",
       "version_major": 2,
       "version_minor": 0
      },
      "text/plain": [
       "  0%|          | 0/50 [00:00<?, ?it/s]"
      ]
     },
     "metadata": {},
     "output_type": "display_data"
    }
   ],
   "source": [
    "from diffusers import StableDiffusionPipeline\n",
    "import torch\n",
    "from fastapi import FastAPI, Request, Form\n",
    "from fastapi.responses import HTMLResponse\n",
    "from fastapi.templating import Jinja2Templates\n",
    "from transformers import pipeline\n",
    "from sqlalchemy import create_engine, Column, String, Integer\n",
    "from sqlalchemy.ext.declarative import declarative_base\n",
    "from sqlalchemy.orm import sessionmaker\n",
    "import threading\n",
    "from PIL import Image\n",
    "import numpy as np\n",
    "import io\n",
    "import base64\n",
    "\n",
    "#데이터베이스설정\n",
    "DATABASE_URL =\"sqlite:///./test.db\"\n",
    "engine = create_engine(DATABASE_URL)\n",
    "SessionLocal = sessionmaker(autocommit=False, autoflush=False, bind=engine)\n",
    "Base = declarative_base()\n",
    "\n",
    "#모델정의\n",
    "class TextInput(Base):\n",
    "    __tablename__=\"text_inputs\"\n",
    "    \n",
    "    id = Column(Integer, primary_key=True, index=True)\n",
    "    text =Column(String, index=True)\n",
    "    \n",
    "#데이터베이스 테이블생성 \n",
    "Base.metadata.create_all(bind=engine)\n",
    "\n",
    "#fastapi 앱 생성\n",
    "app = FastAPI()\n",
    "\n",
    "#jinja2템플릿 설정\n",
    "templates = Jinja2Templates(directory=\"templates\")\n",
    "\n",
    "#Hugging Face 모델설정(감정분석 모델)\n",
    "model = pipeline(\"sentiment-analysis\", model=\"distilbert-base-uncased-finetuned-sst-2-english\")\n",
    "\n",
    "device=\"cuda\" if torch.cuda.is_available() else \"cpu\"\n",
    "image_model = StableDiffusionPipeline.from_pretrained(\"CompVis/stable-diffusion-v1-4\").to(device)\n",
    "\n",
    "# image_model =pipeline(\"text-to-image\", model=\"CompVis/stable-diffusion-v1-4\")\n",
    "\n",
    "\n",
    "#기본화면(프론트엔드)\n",
    "@app.get(\"/\", response_class=HTMLResponse)\n",
    "def read_root(request: Request):\n",
    "    return templates.TemplateResponse(\"index.html\", {\"request\": request})\n",
    "\n",
    "#사용자 입력을 처리하고 모델 결과 반환\n",
    "@app.post(\"/predict/\", response_class=HTMLResponse)\n",
    "def predict(request: Request, text: str =Form(...)):\n",
    "    #데이터베이스 세션 생성\n",
    "    db = SessionLocal()\n",
    "    \n",
    "    #입력된 텍스트를 데이터베이스에 제공\n",
    "    db_input =TextInput(text=text)\n",
    "    db.add(db_input)\n",
    "    db.commit()\n",
    "    db.refresh(db_input)\n",
    "    db.close()\n",
    "    \n",
    "    prediction = model(text)[0]\n",
    "    \n",
    "    #이미지 생성\n",
    "    images = image_model(text).images\n",
    "    \n",
    "    #이미지처리(PIL이미지로 변환)\n",
    "    image_bytes = io.BytesIO()\n",
    "    # image = images[0]['image']\n",
    "    images[0].save(image_bytes, format='PNG')\n",
    "    image_bytes.seek(0)\n",
    "    \n",
    "    #이미지를 base64로인코딩\n",
    "    image_base64 = base64.b64encode(image_bytes.getvalue()).decode('utf-8')\n",
    "    \n",
    "    return templates.TemplateResponse(\"result.html\", {\n",
    "        \"request\":request, \n",
    "        \"text\":text,\n",
    "        \"result\": prediction,\n",
    "        \"image_data\" : image_base64}\n",
    "        ) #이미지데이터를 템플릿으로 전달\n",
    "\n",
    "# 저장된 데이터 조회 엔드포인트\n",
    "@app.get(\"/data/\", response_class=HTMLResponse)\n",
    "def get_data(request: Request):\n",
    "    db = SessionLocal()\n",
    "    texts = db.query(TextInput).all()  # 모든 텍스트 입력 조회\n",
    "    db.close()\n",
    "    \n",
    "    return templates.TemplateResponse(\"data.html\", {\"request\": request, \"texts\": texts})\n",
    "\n",
    "#Uvicorn 서버 백그라운드에서 실행\n",
    "def run():\n",
    "    import uvicorn\n",
    "    uvicorn.run(app,host=\"0.0.0.0\", port=8000)\n",
    "    \n",
    "#백그라운드 스레드로 서버실행\n",
    "server = threading.Thread(target=run)\n",
    "server.start()\n",
    "\n",
    "server.is_alive()"
   ]
  }
 ],
 "metadata": {
  "kernelspec": {
   "display_name": "lecture_env",
   "language": "python",
   "name": "python3"
  },
  "language_info": {
   "codemirror_mode": {
    "name": "ipython",
    "version": 3
   },
   "file_extension": ".py",
   "mimetype": "text/x-python",
   "name": "python",
   "nbconvert_exporter": "python",
   "pygments_lexer": "ipython3",
   "version": "3.12.7"
  }
 },
 "nbformat": 4,
 "nbformat_minor": 2
}
